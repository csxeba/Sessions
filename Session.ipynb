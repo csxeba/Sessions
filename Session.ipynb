{
 "cells": [
  {
   "cell_type": "markdown",
   "metadata": {},
   "source": [
    "# Témák"
   ]
  },
  {
   "cell_type": "code",
   "execution_count": null,
   "metadata": {
    "collapsed": true
   },
   "outputs": [],
   "source": [
    "## Neurális hálózatok\n",
    "### Rekurzív Neurális Hálózatok 1. -- 30 perc\n",
    "Rekurzió. Hibavisszaterjesztés \"az időn át\" (Backpropagation Through Time, BPTT).\n",
    "### Rekurzív Neurális Hálózatok 2. -- 30 perc\n",
    "Egyszerű RNN matematikája és implementációja. Gradiens \"robbanás\" (Exploding gradients). Brainforge könyvtár.\n",
    "### Rekurzív Neurális Hálózatok 3. -- 30 perc\n",
    "Hosszú-rövid távó memória (LSTM) architektúra. Brainforge könyvtár.\n",
    "### Konvolúciós Neurális Hálózatok -- 30 perc\n",
    "Konvolúció és kereszt-korreláció. Többdimenziós tenzorok. CNN matematikája és implementációja. Keras OO API.\n",
    "### Trükkös architektúrák\n",
    "Sztráda-architektúra (Highway Network). Kiejtéses regularizáció (DropOut). Autoencoder. Keras funkcionális API.\n",
    "\n",
    "## Más gépi tanulás\n",
    "### Mátrix-dekompozíciók\n",
    "Egyenértékek, egyenvektorok, egyendekompozíció. Szinguláris érték dekompozíció (SVD). Főkomponens-analízis (PCA).\n",
    "NumPy - Linalg modul\n",
    "### Kernel módszer 1.\n",
    "Dualitás. Langrange-szorzó. Kernel függvények, kernel trükk.\n",
    "### Kernel módszer 2.\n",
    "Lineáris regresszió és duális problémája. Ridge regresszió és duális problémája.\n",
    "### Kernel módszer 3.\n",
    "Támasztóvektor-gép (Support Vector Machine, SVM). \"Hinge\" veszteségfüggvény. Scikit-Learn könyvtár.\n",
    "\n",
    "## Megerősítéses tanulás\n",
    "### Alapok\n",
    "Markov döntési folyamat, Markov-lánc (Markov decision process, Markov-chain).\n",
    "SARSA modell. Idődifferencia-modell (Temporal difference, TD).\n",
    "\"Credit assignement\", jutalom leszámítása (discount rewards).\n",
    "Felfedezés-hasznosítás (Exploration-Exploitation) dilemma. OpenAI Gym keretrendszer.\n",
    "### Q-tanulás\n",
    "Q-függvény, labirintus-probléma megoldása mátrix módszerrel. Bellman-függvény\n",
    "### PG - Policy Gradients\n",
    "\"Pong from pixels\" implementáció. Tapasztalat-visszajátszás.\n",
    "Pong-v0.\n",
    "### DQN - Deep Q Network\n",
    "Q-függvény becslése neurális hálózattal. Bellman-függvény, mint veszteségfüggvény. Target hálózat.\n",
    "CarPole-V0.\n",
    "### DDPG - Deep Deterministic Policy Gradients\n",
    "Cselekvő-kritikus architektúra, a fenti koncepciók egyesítése. TORCS"
   ]
  }
 ],
 "metadata": {
  "kernelspec": {
   "display_name": "Python 3",
   "language": "python",
   "name": "python3"
  },
  "language_info": {
   "codemirror_mode": {
    "name": "ipython",
    "version": 3
   },
   "file_extension": ".py",
   "mimetype": "text/x-python",
   "name": "python",
   "nbconvert_exporter": "python",
   "pygments_lexer": "ipython3",
   "version": "3.6.1"
  }
 },
 "nbformat": 4,
 "nbformat_minor": 2
}
